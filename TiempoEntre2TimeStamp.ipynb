{
  "nbformat": 4,
  "nbformat_minor": 0,
  "metadata": {
    "colab": {
      "name": "TiempoEntre2TimeStamp.ipynb",
      "provenance": [],
      "collapsed_sections": []
    },
    "kernelspec": {
      "name": "python3",
      "display_name": "Python 3"
    }
  },
  "cells": [
    {
      "cell_type": "code",
      "metadata": {
        "id": "IpzcZeIZ_WWZ",
        "colab_type": "code",
        "colab": {}
      },
      "source": [
        "import numpy as np"
      ],
      "execution_count": 0,
      "outputs": []
    },
    {
      "cell_type": "markdown",
      "metadata": {
        "id": "43q3sEmn7XIa",
        "colab_type": "text"
      },
      "source": [
        "En el siguiente NoteBook, se especifica el proceso de calculo de tiempo transcurrido entre dos fechas transformadas en TimeStamp\n",
        "\n",
        "Juan Andrés Rojas Álvarez, C.C 1018492522 "
      ]
    },
    {
      "cell_type": "markdown",
      "metadata": {
        "id": "xXfQue6f8unq",
        "colab_type": "text"
      },
      "source": [
        "Lo primero es especificar la cantidad de segundos que hay en cada medida de tiempo (año, mes, dia, hora, minuto). Teniendo en cuenta que la cantidad de días en un mes en promedio es de 30 días. Por otra parte se toman 365.25 días que es la cantidad de días que hay en cada año, además de facilitar el calculo de los años biciestos"
      ]
    },
    {
      "cell_type": "code",
      "metadata": {
        "id": "7Dh-92Al8uD2",
        "colab_type": "code",
        "colab": {}
      },
      "source": [
        "minuto = 60\n",
        "hora = 60*minuto\n",
        "dia = hora*24\n",
        "mes = dia*30\n",
        "anio = dia*365.25"
      ],
      "execution_count": 0,
      "outputs": []
    },
    {
      "cell_type": "markdown",
      "metadata": {
        "id": "qQARqJj68FcW",
        "colab_type": "text"
      },
      "source": [
        "Lo siguiente es ingresar las dos fechas en formato timestamp, y luego realizar la resta estre estas dos.\n",
        "\n",
        "De manera tal que no exista conflicto entre el orden de los TimeStamp, se usa el valor absoluto."
      ]
    },
    {
      "cell_type": "code",
      "metadata": {
        "id": "ekBYyVJm7RO1",
        "colab_type": "code",
        "colab": {}
      },
      "source": [
        "f1 = 855888600\n",
        "f2 = 1584990000\n",
        "\n",
        "cont = abs(f1-f2)"
      ],
      "execution_count": 0,
      "outputs": []
    },
    {
      "cell_type": "markdown",
      "metadata": {
        "id": "nvBrkwK69tTP",
        "colab_type": "text"
      },
      "source": [
        "El siguiente paso es calcular la cantidad de años transcurridos, tomar la parte entera del resultado, además restar al contador la cantidad de años que han pasado (pasando estos a segundos)."
      ]
    },
    {
      "cell_type": "code",
      "metadata": {
        "id": "cMZDKaFy9tcD",
        "colab_type": "code",
        "colab": {
          "base_uri": "https://localhost:8080/",
          "height": 35
        },
        "outputId": "b2151667-c00b-400f-e535-c4514977404f"
      },
      "source": [
        "numAnios = np.floor(cont/anio)\n",
        "cont = cont-(numAnios*anio)\n",
        "print(\"Han transcurrido \", numAnios, \" años\")"
      ],
      "execution_count": 70,
      "outputs": [
        {
          "output_type": "stream",
          "text": [
            "Han transcurrido  23.0  años\n"
          ],
          "name": "stdout"
        }
      ]
    },
    {
      "cell_type": "markdown",
      "metadata": {
        "id": "hvzeWvQQAOQh",
        "colab_type": "text"
      },
      "source": [
        "Por otra parte, se debe calcular la cantidad de meses aproximados transcurridos, y de igual forma restarlos del contador."
      ]
    },
    {
      "cell_type": "code",
      "metadata": {
        "id": "LywplxBsAOay",
        "colab_type": "code",
        "colab": {
          "base_uri": "https://localhost:8080/",
          "height": 35
        },
        "outputId": "3a18f641-2a81-4912-d4eb-8ef37ea7eecb"
      },
      "source": [
        "numMeses = np.floor(cont/mes)\n",
        "cont = cont-(numMeses*mes)\n",
        "print(\"Han transcurrido \", numMeses, \" meses\")"
      ],
      "execution_count": 71,
      "outputs": [
        {
          "output_type": "stream",
          "text": [
            "Han transcurrido  1.0  meses\n"
          ],
          "name": "stdout"
        }
      ]
    },
    {
      "cell_type": "markdown",
      "metadata": {
        "id": "tIiRRtoFB4tH",
        "colab_type": "text"
      },
      "source": [
        "De la misma manera se calcula la cantidad de dias, horas y minutos que han transcurrido."
      ]
    },
    {
      "cell_type": "code",
      "metadata": {
        "id": "Yl7rJXedBT5n",
        "colab_type": "code",
        "colab": {
          "base_uri": "https://localhost:8080/",
          "height": 35
        },
        "outputId": "33b014ef-8e2d-4a04-ff49-09e9475ade4a"
      },
      "source": [
        "numDias = np.floor(cont/dia)\n",
        "cont = cont-(numDias*dia)\n",
        "print(\"Han transcurrido \", numDias, \" días\")"
      ],
      "execution_count": 72,
      "outputs": [
        {
          "output_type": "stream",
          "text": [
            "Han transcurrido  7.0  días\n"
          ],
          "name": "stdout"
        }
      ]
    },
    {
      "cell_type": "code",
      "metadata": {
        "id": "w4moLE3LBmBi",
        "colab_type": "code",
        "colab": {
          "base_uri": "https://localhost:8080/",
          "height": 35
        },
        "outputId": "09d42b55-87ff-4c9a-9a97-c79ed65cd2e6"
      },
      "source": [
        "numHoras = np.floor(cont/hora)\n",
        "cont = cont-(numHoras*hora)\n",
        "print(\"Han transcurrido \", numHoras, \" Horas\")"
      ],
      "execution_count": 73,
      "outputs": [
        {
          "output_type": "stream",
          "text": [
            "Han transcurrido  22.0  Horas\n"
          ],
          "name": "stdout"
        }
      ]
    },
    {
      "cell_type": "code",
      "metadata": {
        "id": "ZdjuJ9zBCSNT",
        "colab_type": "code",
        "colab": {
          "base_uri": "https://localhost:8080/",
          "height": 35
        },
        "outputId": "e64a1865-2379-420a-aa4f-f0c79410db8e"
      },
      "source": [
        "numMinutos = np.floor(cont/minuto)\n",
        "cont = cont-(numMinutos*minuto)\n",
        "print(\"Han transcurrido \", numMinutos, \" Minutos\")"
      ],
      "execution_count": 74,
      "outputs": [
        {
          "output_type": "stream",
          "text": [
            "Han transcurrido  10.0  Minutos\n"
          ],
          "name": "stdout"
        }
      ]
    },
    {
      "cell_type": "code",
      "metadata": {
        "id": "IotGiQrWCilj",
        "colab_type": "code",
        "colab": {
          "base_uri": "https://localhost:8080/",
          "height": 35
        },
        "outputId": "e915e101-781c-4d10-c741-ad6b72f3db6d"
      },
      "source": [
        "print(\"Han transcurrido \", cont, \" Segundos\")"
      ],
      "execution_count": 75,
      "outputs": [
        {
          "output_type": "stream",
          "text": [
            "Han transcurrido  0.0  Segundos\n"
          ],
          "name": "stdout"
        }
      ]
    },
    {
      "cell_type": "markdown",
      "metadata": {
        "id": "aCD8zMSvC14O",
        "colab_type": "text"
      },
      "source": [
        "Finalmente se puede decir que:"
      ]
    },
    {
      "cell_type": "code",
      "metadata": {
        "id": "sCnhcv62C4Yp",
        "colab_type": "code",
        "colab": {
          "base_uri": "https://localhost:8080/",
          "height": 72
        },
        "outputId": "5006273c-4323-4218-de34-9430f9b08af4"
      },
      "source": [
        "print(\"El tiempo aproximado transcurrido es: \\n\")\n",
        "print(numAnios, \"Años, \", numMeses, \" Meses, \", numDias, \" Días, \", numHoras, \" Horas, \", numMinutos, \" Minutos, \", cont, \" Segundos\")"
      ],
      "execution_count": 77,
      "outputs": [
        {
          "output_type": "stream",
          "text": [
            "El tiempo aproximado transcurrido es: \n",
            "\n",
            "23.0 Años,  1.0  Meses,  7.0  Días,  22.0  Horas,  10.0  Minutos,  0.0  Segundos\n"
          ],
          "name": "stdout"
        }
      ]
    },
    {
      "cell_type": "markdown",
      "metadata": {
        "id": "IdMkCfJKGSPI",
        "colab_type": "text"
      },
      "source": [
        "Esta solución posee un desfase máximo de 5 o 6 días, ya que tomando los meses de 30 días, se tendrían 360 días al año. Lo cual correspondería a un 1% de error aproximadamente.\n",
        "\n",
        "La diferencia real entre estas dos fechas es de, 23 años, 1 mes, 9 dias, 16 horas, 10 minutos, 0 segundos.\n",
        "\n",
        "Esto implica un desfase de 1 día, 18 horas,  0 minutos, 0 segundos.\n",
        "Un error aproximado del 0.4%."
      ]
    }
  ]
}